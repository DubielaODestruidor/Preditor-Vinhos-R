{
 "cells": [
  {
   "cell_type": "code",
   "id": "initial_id",
   "metadata": {
    "collapsed": true,
    "ExecuteTime": {
     "end_time": "2024-09-30T02:59:26.049083Z",
     "start_time": "2024-09-30T02:59:26.044708Z"
    }
   },
   "source": "import pandas as pd",
   "outputs": [],
   "execution_count": 7
  },
  {
   "metadata": {
    "ExecuteTime": {
     "end_time": "2024-09-30T03:00:31.877138Z",
     "start_time": "2024-09-30T03:00:31.862625Z"
    }
   },
   "cell_type": "code",
   "source": [
    "vinho_vermelho = pd.read_csv(\"../legacy-R-code/databases/winequality-red.csv\", sep=\";\")\n",
    "vinho_branco = pd.read_csv(\"../legacy-R-code/databases/winequality-white.csv\", sep=\";\")"
   ],
   "id": "991f1d34c4545e34",
   "outputs": [],
   "execution_count": 9
  },
  {
   "metadata": {},
   "cell_type": "code",
   "outputs": [],
   "execution_count": null,
   "source": "",
   "id": "fe07a5bc067a22ef"
  }
 ],
 "metadata": {
  "kernelspec": {
   "display_name": "Python 3",
   "language": "python",
   "name": "python3"
  },
  "language_info": {
   "codemirror_mode": {
    "name": "ipython",
    "version": 2
   },
   "file_extension": ".py",
   "mimetype": "text/x-python",
   "name": "python",
   "nbconvert_exporter": "python",
   "pygments_lexer": "ipython2",
   "version": "2.7.6"
  }
 },
 "nbformat": 4,
 "nbformat_minor": 5
}
